{
  "nbformat": 4,
  "nbformat_minor": 0,
  "metadata": {
    "colab": {
      "name": "Piet_aut_TBALog_V2.ipynb",
      "provenance": [],
      "collapsed_sections": [],
      "toc_visible": true
    },
    "kernelspec": {
      "name": "python3",
      "display_name": "Python 3"
    }
  },
  "cells": [
    {
      "cell_type": "markdown",
      "metadata": {
        "id": "_YKmI08Dtv5V"
      },
      "source": [
        "# __Uitgangspunten bij opstellen/gebruik Binder Notebook:__\r\n",
        "\r\n",
        "\r\n",
        "---\r\n",
        "\r\n",
        "\r\n",
        "\r\n",
        "1. Aangeleverde export vanuit TBS is __ALTIJD__ in .csv format en is __ALTIJD__ _'tab seperated_';\r\n",
        "2. Totaaloverzicht waaraan de .csv export als nieuwe tab toegevoegd moet worden is __ALTIJD__ in .xlsx format;\r\n",
        "3. Er wordt __ALTIJD__ maar één .csv export tegelijk in de omgeving ingeladen;\r\n",
        "4. Het totaaloverzicht en de exports zijn altijd conform format welke is aangeleverd door Piet Bon d.d. 17-12-2020;\r\n",
        "5. Er zijn geen andere bestanden geeimporteerd in de virtuele Binder omgeving.\r\n",
        "\r\n",
        "---\r\n",
        "\r\n",
        "\r\n",
        "\r\n",
        "\r\n"
      ]
    },
    {
      "cell_type": "markdown",
      "metadata": {
        "id": "-JCcFUopU81-"
      },
      "source": [
        "# Download alle ontbrekende Python packages voor de Binder omgeving zodat deze geïmporteerd en gebruikt kunnen worden."
      ]
    },
    {
      "cell_type": "code",
      "metadata": {
        "id": "rM1eVgy8GPho"
      },
      "source": [
        "# !pip3 install pandas\r\n",
        "# !pip3 install openpyxl"
      ],
      "execution_count": null,
      "outputs": []
    },
    {
      "cell_type": "markdown",
      "metadata": {
        "id": "uzYLIcTrVNdh"
      },
      "source": [
        "# Importeer de benodige Python packages om het script te kunnen runnen."
      ]
    },
    {
      "cell_type": "code",
      "metadata": {
        "id": "mEL1PzlDGVaD"
      },
      "source": [
        "import os\r\n",
        "import pandas as pd\r\n",
        "from openpyxl import load_workbook"
      ],
      "execution_count": null,
      "outputs": []
    },
    {
      "cell_type": "markdown",
      "metadata": {
        "id": "q_o5W_2-4zNi"
      },
      "source": [
        "# Maak 2 nieuwe variabelen aan: __format_export__ en __format_overzicht__ aan en geef per variabale in stringformat het bestandsformat aan _(bijvoorbeeld .csv of .xlsx)_."
      ]
    },
    {
      "cell_type": "code",
      "metadata": {
        "id": "V29NUmsT43xW"
      },
      "source": [
        "format_export = '.csv'\r\n",
        "format_overzicht = '.xlsx'"
      ],
      "execution_count": null,
      "outputs": []
    },
    {
      "cell_type": "markdown",
      "metadata": {
        "id": "v535QRSQ6BEv"
      },
      "source": [
        "# Definieer de functie `haal_bestand_op(bestandstype)`\r\n",
        "\r\n",
        "## Pre-conditie:\r\n",
        "1. Maak de huidige werkmap inzichtelijk door de bestaande functie  `os.getcwd()` te runnen en het resultaat op te slaan in variabele: __cwd__;\r\n",
        "2. Gebruikt de bestaande functie `os.listdir()` met als inputvariabele __cwd__ om een lijst te maken van alle bestanden in deze werkmap en voegt dit samen in variabele (lijst) __bestanden__.\r\n",
        "\r\n",
        "# De functie doorloopt de volgende stappen:\r\n",
        "1. Gebruikt een _for_ loop om over deze lijst heen te itereren en combineer het PATH van de werkmap met de bestandsnaam;\r\n",
        "2. Geeft als eindresultaat de variabele __path__ terug met daarin het absolute PATH naar het bestand."
      ]
    },
    {
      "cell_type": "code",
      "metadata": {
        "id": "wr8wZAtW5DTg"
      },
      "source": [
        "cwd = os.getcwd()\r\n",
        "bestanden = os.listdir(cwd)"
      ],
      "execution_count": null,
      "outputs": []
    },
    {
      "cell_type": "code",
      "metadata": {
        "id": "1NBR0XdfLY3-"
      },
      "source": [
        "def haal_bestand_op(bestandstype):\r\n",
        "  for bestand in bestanden:\r\n",
        "    if bestand.endswith(bestandstype):\r\n",
        "      path = (f'{cwd}/{bestand}')\r\n",
        "      return path"
      ],
      "execution_count": null,
      "outputs": []
    },
    {
      "cell_type": "markdown",
      "metadata": {
        "id": "Cwt4S9iD6uQM"
      },
      "source": [
        "# Run de functie `haal_bestand_op(bestandstype)` met als inputvariabele bestandstype: __format_export__ en sla het resultaat op als variabele __path__."
      ]
    },
    {
      "cell_type": "code",
      "metadata": {
        "id": "AkA8kDVXVYy7",
        "colab": {
          "base_uri": "https://localhost:8080/",
          "height": 35
        },
        "outputId": "43405cc1-91c5-4d29-bcbf-dff5c8303969"
      },
      "source": [
        "path = haal_bestand_op(format_export)\r\n",
        "path"
      ],
      "execution_count": null,
      "outputs": [
        {
          "output_type": "execute_result",
          "data": {
            "application/vnd.google.colaboratory.intrinsic+json": {
              "type": "string"
            },
            "text/plain": [
              "'/content/CT_Sommatie_20201217_110913.csv'"
            ]
          },
          "metadata": {
            "tags": []
          },
          "execution_count": 85
        }
      ]
    },
    {
      "cell_type": "markdown",
      "metadata": {
        "id": "zcVQvl1EVeFL"
      },
      "source": [
        "# Laad de .csv in een nieuw DataFrame: __df__ en print de eerste 5 regels met de bestaande functie `df.head()`om het resultaat in te zien en/of te controleren."
      ]
    },
    {
      "cell_type": "code",
      "metadata": {
        "colab": {
          "base_uri": "https://localhost:8080/",
          "height": 442
        },
        "id": "MOvbYLvHGW7u",
        "outputId": "43464875-ded3-49da-c942-a5767f15ae95"
      },
      "source": [
        "df = pd.read_csv(path, sep='\\t')\r\n",
        "df.head()"
      ],
      "execution_count": null,
      "outputs": [
        {
          "output_type": "execute_result",
          "data": {
            "text/html": [
              "<div>\n",
              "<style scoped>\n",
              "    .dataframe tbody tr th:only-of-type {\n",
              "        vertical-align: middle;\n",
              "    }\n",
              "\n",
              "    .dataframe tbody tr th {\n",
              "        vertical-align: top;\n",
              "    }\n",
              "\n",
              "    .dataframe thead th {\n",
              "        text-align: right;\n",
              "    }\n",
              "</style>\n",
              "<table border=\"1\" class=\"dataframe\">\n",
              "  <thead>\n",
              "    <tr style=\"text-align: right;\">\n",
              "      <th></th>\n",
              "      <th>aantal</th>\n",
              "      <th>scadatekst</th>\n",
              "      <th>tagnaam</th>\n",
              "      <th>jaar</th>\n",
              "      <th>maand</th>\n",
              "      <th>locatie</th>\n",
              "      <th>tunneldeel</th>\n",
              "      <th>deelinstallatie</th>\n",
              "      <th>typeobject</th>\n",
              "      <th>objectnaam</th>\n",
              "      <th>instantienaam</th>\n",
              "      <th>BPScode</th>\n",
              "      <th>soortmelding</th>\n",
              "      <th>Unnamed: 13</th>\n",
              "    </tr>\n",
              "  </thead>\n",
              "  <tbody>\n",
              "    <tr>\n",
              "      <th>0</th>\n",
              "      <td>88</td>\n",
              "      <td>Overdruk pompruimten en kelders: Geen overdruk...</td>\n",
              "      <td>CTW_TUN_BnB_adpKLDovdk.Meldingen.OverdrukNietOK</td>\n",
              "      <td>2020</td>\n",
              "      <td>11</td>\n",
              "      <td>CTW</td>\n",
              "      <td>TUN</td>\n",
              "      <td>BnB</td>\n",
              "      <td>ADP</td>\n",
              "      <td>KLDovdk</td>\n",
              "      <td>NaN</td>\n",
              "      <td>NaN</td>\n",
              "      <td>VT</td>\n",
              "      <td>NaN</td>\n",
              "    </tr>\n",
              "    <tr>\n",
              "      <th>1</th>\n",
              "      <td>26</td>\n",
              "      <td>VRI Noord: Fout tijdens activeren rood</td>\n",
              "      <td>CTW_B2_BnB_adpVRIafhNZ.Meldingen.ACOF_Rood</td>\n",
              "      <td>2020</td>\n",
              "      <td>11</td>\n",
              "      <td>CTW</td>\n",
              "      <td>B2</td>\n",
              "      <td>BnB</td>\n",
              "      <td>ADP</td>\n",
              "      <td>VRIafh</td>\n",
              "      <td>NZ</td>\n",
              "      <td>A10n-30,7</td>\n",
              "      <td>VT</td>\n",
              "      <td>NaN</td>\n",
              "    </tr>\n",
              "    <tr>\n",
              "      <th>2</th>\n",
              "      <td>16</td>\n",
              "      <td>HF: Niet beschikbaar</td>\n",
              "      <td>CTO_B1_BnB_adpHFbesch.Meldingen.NietBeschikbaar</td>\n",
              "      <td>2020</td>\n",
              "      <td>11</td>\n",
              "      <td>CTO</td>\n",
              "      <td>B1</td>\n",
              "      <td>BnB</td>\n",
              "      <td>ADP</td>\n",
              "      <td>HFbesch</td>\n",
              "      <td>NaN</td>\n",
              "      <td>NaN</td>\n",
              "      <td>VT</td>\n",
              "      <td>NaN</td>\n",
              "    </tr>\n",
              "    <tr>\n",
              "      <th>3</th>\n",
              "      <td>16</td>\n",
              "      <td>MTM Inleidende snelheid ZN: Niet beschikbaar</td>\n",
              "      <td>CTO_B1_BnB_adpMTMsmrZN.Meldingen.NietBeschikbaar</td>\n",
              "      <td>2020</td>\n",
              "      <td>11</td>\n",
              "      <td>CTO</td>\n",
              "      <td>B1</td>\n",
              "      <td>BnB</td>\n",
              "      <td>ADP</td>\n",
              "      <td>MTMsmr</td>\n",
              "      <td>ZN</td>\n",
              "      <td>NaN</td>\n",
              "      <td>VT</td>\n",
              "      <td>NaN</td>\n",
              "    </tr>\n",
              "    <tr>\n",
              "      <th>4</th>\n",
              "      <td>16</td>\n",
              "      <td>HF: Niet beschikbaar</td>\n",
              "      <td>CTW_B1_BnB_adpHFbesch.Meldingen.NietBeschikbaar</td>\n",
              "      <td>2020</td>\n",
              "      <td>11</td>\n",
              "      <td>CTW</td>\n",
              "      <td>B1</td>\n",
              "      <td>BnB</td>\n",
              "      <td>ADP</td>\n",
              "      <td>HFbesch</td>\n",
              "      <td>NaN</td>\n",
              "      <td>NaN</td>\n",
              "      <td>VT</td>\n",
              "      <td>NaN</td>\n",
              "    </tr>\n",
              "  </tbody>\n",
              "</table>\n",
              "</div>"
            ],
            "text/plain": [
              "   aantal  ... Unnamed: 13\n",
              "0      88  ...         NaN\n",
              "1      26  ...         NaN\n",
              "2      16  ...         NaN\n",
              "3      16  ...         NaN\n",
              "4      16  ...         NaN\n",
              "\n",
              "[5 rows x 14 columns]"
            ]
          },
          "metadata": {
            "tags": []
          },
          "execution_count": 86
        }
      ]
    },
    {
      "cell_type": "markdown",
      "metadata": {
        "id": "0ulLM1oAXRIh"
      },
      "source": [
        "# Gebruik onderstaande voorbeeld als gewenst resultaat voor het DataFrame:\r\n",
        "\r\n",
        "![piet.jpg](data:image/jpeg;base64,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)\r\n",
        "\r\n",
        "## Stappen:\r\n",
        "1. Verwijder de overbodige kolommen;\r\n",
        "2. Pas de kolomnamen aan conform bovenstaand voorbeeld;\r\n",
        "3. Print de eerste 5 resultaten met `df.head()` om het resultaat in te zien en/of te controleren."
      ]
    },
    {
      "cell_type": "code",
      "metadata": {
        "id": "M4gZ98_bSvZK",
        "colab": {
          "base_uri": "https://localhost:8080/",
          "height": 289
        },
        "outputId": "6587f831-8065-427d-a694-cf97005cbbc6"
      },
      "source": [
        "df2 = df[['locatie', 'tunneldeel', 'scadatekst', 'BPScode', 'aantal']]\r\n",
        "df2.rename(columns={'locatie':'locatie', 'tunneldeel':'Tunnel', 'scadatekst':'Meldingstekst', 'BPScode':'BPScode', 'aantal':'Total'}, inplace=True)\r\n",
        "df2.head()"
      ],
      "execution_count": null,
      "outputs": [
        {
          "output_type": "stream",
          "text": [
            "/usr/local/lib/python3.6/dist-packages/pandas/core/frame.py:4308: SettingWithCopyWarning: \n",
            "A value is trying to be set on a copy of a slice from a DataFrame\n",
            "\n",
            "See the caveats in the documentation: https://pandas.pydata.org/pandas-docs/stable/user_guide/indexing.html#returning-a-view-versus-a-copy\n",
            "  errors=errors,\n"
          ],
          "name": "stderr"
        },
        {
          "output_type": "execute_result",
          "data": {
            "text/html": [
              "<div>\n",
              "<style scoped>\n",
              "    .dataframe tbody tr th:only-of-type {\n",
              "        vertical-align: middle;\n",
              "    }\n",
              "\n",
              "    .dataframe tbody tr th {\n",
              "        vertical-align: top;\n",
              "    }\n",
              "\n",
              "    .dataframe thead th {\n",
              "        text-align: right;\n",
              "    }\n",
              "</style>\n",
              "<table border=\"1\" class=\"dataframe\">\n",
              "  <thead>\n",
              "    <tr style=\"text-align: right;\">\n",
              "      <th></th>\n",
              "      <th>locatie</th>\n",
              "      <th>Tunnel</th>\n",
              "      <th>Meldingstekst</th>\n",
              "      <th>BPScode</th>\n",
              "      <th>Total</th>\n",
              "    </tr>\n",
              "  </thead>\n",
              "  <tbody>\n",
              "    <tr>\n",
              "      <th>0</th>\n",
              "      <td>CTW</td>\n",
              "      <td>TUN</td>\n",
              "      <td>Overdruk pompruimten en kelders: Geen overdruk...</td>\n",
              "      <td>NaN</td>\n",
              "      <td>88</td>\n",
              "    </tr>\n",
              "    <tr>\n",
              "      <th>1</th>\n",
              "      <td>CTW</td>\n",
              "      <td>B2</td>\n",
              "      <td>VRI Noord: Fout tijdens activeren rood</td>\n",
              "      <td>A10n-30,7</td>\n",
              "      <td>26</td>\n",
              "    </tr>\n",
              "    <tr>\n",
              "      <th>2</th>\n",
              "      <td>CTO</td>\n",
              "      <td>B1</td>\n",
              "      <td>HF: Niet beschikbaar</td>\n",
              "      <td>NaN</td>\n",
              "      <td>16</td>\n",
              "    </tr>\n",
              "    <tr>\n",
              "      <th>3</th>\n",
              "      <td>CTO</td>\n",
              "      <td>B1</td>\n",
              "      <td>MTM Inleidende snelheid ZN: Niet beschikbaar</td>\n",
              "      <td>NaN</td>\n",
              "      <td>16</td>\n",
              "    </tr>\n",
              "    <tr>\n",
              "      <th>4</th>\n",
              "      <td>CTW</td>\n",
              "      <td>B1</td>\n",
              "      <td>HF: Niet beschikbaar</td>\n",
              "      <td>NaN</td>\n",
              "      <td>16</td>\n",
              "    </tr>\n",
              "  </tbody>\n",
              "</table>\n",
              "</div>"
            ],
            "text/plain": [
              "  locatie Tunnel  ...    BPScode Total\n",
              "0     CTW    TUN  ...        NaN    88\n",
              "1     CTW     B2  ...  A10n-30,7    26\n",
              "2     CTO     B1  ...        NaN    16\n",
              "3     CTO     B1  ...        NaN    16\n",
              "4     CTW     B1  ...        NaN    16\n",
              "\n",
              "[5 rows x 5 columns]"
            ]
          },
          "metadata": {
            "tags": []
          },
          "execution_count": 87
        }
      ]
    },
    {
      "cell_type": "markdown",
      "metadata": {
        "id": "a-_2LtHOcI9d"
      },
      "source": [
        "# Haal de maand van de export uit het eerste DataFrame het nummer van de maand op en sla deze op als nieuwe variabele: __maand_nr__."
      ]
    },
    {
      "cell_type": "code",
      "metadata": {
        "id": "t3n6NzFNcN0Y",
        "colab": {
          "base_uri": "https://localhost:8080/",
          "height": 35
        },
        "outputId": "57b238a4-4463-4605-879a-3332889635a4"
      },
      "source": [
        "maand_nr = str(df['maand'][1])\r\n",
        "maand_nr"
      ],
      "execution_count": null,
      "outputs": [
        {
          "output_type": "execute_result",
          "data": {
            "application/vnd.google.colaboratory.intrinsic+json": {
              "type": "string"
            },
            "text/plain": [
              "'11'"
            ]
          },
          "metadata": {
            "tags": []
          },
          "execution_count": 88
        }
      ]
    },
    {
      "cell_type": "markdown",
      "metadata": {
        "id": "1NbfUfUHfHk-"
      },
      "source": [
        "# Maak een dictonary: __dict_mont__ met daarin alle maanden en hun nummers, deze zal als input dienen voor de tab naam in het totaalbestand."
      ]
    },
    {
      "cell_type": "code",
      "metadata": {
        "id": "husui6aXdTM2"
      },
      "source": [
        "dict_month = {'1':'januari',\r\n",
        "              '2':'februari',\r\n",
        "              '3':'maart',\r\n",
        "              '4':'april',\r\n",
        "              '5':'mei',\r\n",
        "              '6':'juni',\r\n",
        "              '7':'juli',\r\n",
        "              '8':'augustus',\r\n",
        "              '9':'september',\r\n",
        "              '10':'oktober',\r\n",
        "              '11':'november',\r\n",
        "              '12':'december'}"
      ],
      "execution_count": null,
      "outputs": []
    },
    {
      "cell_type": "markdown",
      "metadata": {
        "id": "qmGqVM7Wg9nn"
      },
      "source": [
        "# Zoek op basis van __maand_nr__ de bijhorende naam van de maand op en sla deze op in variabele __maand_naam__."
      ]
    },
    {
      "cell_type": "code",
      "metadata": {
        "id": "EDjBjejjflsX",
        "colab": {
          "base_uri": "https://localhost:8080/",
          "height": 35
        },
        "outputId": "d8bae06e-02ef-45af-8312-9e1e5698cd0f"
      },
      "source": [
        "tabnaam = dict_month.get(maand_nr)\r\n",
        "tabnaam"
      ],
      "execution_count": null,
      "outputs": [
        {
          "output_type": "execute_result",
          "data": {
            "application/vnd.google.colaboratory.intrinsic+json": {
              "type": "string"
            },
            "text/plain": [
              "'november'"
            ]
          },
          "metadata": {
            "tags": []
          },
          "execution_count": 90
        }
      ]
    },
    {
      "cell_type": "markdown",
      "metadata": {
        "id": "bQRRULdphVkA"
      },
      "source": [
        "# Run de functie `haal_bestand_op(bestandstype)` met als inputvariabele bestandstype: __format_overzicht__ en sla het resultaat op als variabele __bestandsnaam__."
      ]
    },
    {
      "cell_type": "code",
      "metadata": {
        "id": "ok85ZLjUkeVY",
        "colab": {
          "base_uri": "https://localhost:8080/",
          "height": 35
        },
        "outputId": "6b5beb70-bfb6-467f-d58e-cd17b4309c12"
      },
      "source": [
        "bestandsnaam = haal_bestand_op(format_overzicht)\r\n",
        "bestandsnaam"
      ],
      "execution_count": null,
      "outputs": [
        {
          "output_type": "execute_result",
          "data": {
            "application/vnd.google.colaboratory.intrinsic+json": {
              "type": "string"
            },
            "text/plain": [
              "'/content/logging Coentunnel.xlsx'"
            ]
          },
          "metadata": {
            "tags": []
          },
          "execution_count": 91
        }
      ]
    },
    {
      "cell_type": "markdown",
      "metadata": {
        "id": "xivKlrgOj17p"
      },
      "source": [
        "# Definieer de functie `voeg_dataframe_toe_aan_spreadsheet(bestandsnaam, tabnaam, dataframe)`\r\n",
        "\r\n",
        "Deze functie pakt het eerder samengestelde dataframe: __df2__ en voeg deze als nieuwe tab achteraan in de spreadsheet toe met als naam de naam van de maand uit variabele: __maand_naam__."
      ]
    },
    {
      "cell_type": "code",
      "metadata": {
        "id": "_PZJgZMwj29n"
      },
      "source": [
        "def voeg_dataframe_toe_aan_spreadsheet(bestandsnaam, tabnaam, dataframe):\r\n",
        "    \"\"\"\r\n",
        "    Voegt een DataFrame toe als nieuwe tab in een bestaand spreadsheet\r\n",
        "    :parameter bestandsnaam: naam of path van het bestand\r\n",
        "    :parameter tabname: tabnaam die aangemaakt moet worden\r\n",
        "    :parameter dataframe: dataframe dat toegevoegd dient te worden\r\n",
        "    \"\"\"\r\n",
        "    filename = bestandsnaam\r\n",
        "    sheet_name = tabnaam\r\n",
        "\r\n",
        "    # creer een Excelwriter\r\n",
        "    writer = pd.ExcelWriter(filename, engine='openpyxl')\r\n",
        "    \r\n",
        "    try:\r\n",
        "        # probeer een bestaand spreadsheet te openen\r\n",
        "        print(f'oude filename =  {filename}')\r\n",
        "        filename = filename.replace('/', '\\\\')\r\n",
        "        print(f'nieuwe filename = {filename}')\r\n",
        "        \r\n",
        "        writer.book = load_workbook(filename)\r\n",
        "        \r\n",
        "        # copieer bestaande tabs\r\n",
        "        writer.sheets = dict(\r\n",
        "            (ws.title, ws) for ws in writer.book.worksheets)\r\n",
        "    except IOError:\r\n",
        "        # bestand bestaat niet, maak hem aan\r\n",
        "        pass\r\n",
        "\r\n",
        "    # maak de nieuwe tab aan\r\n",
        "    dataframe.to_excel(writer, sheet_name=sheet_name)\r\n",
        "    \r\n",
        "    # sla de nieuwe spreadsheet op\r\n",
        "    writer.save()"
      ],
      "execution_count": null,
      "outputs": []
    },
    {
      "cell_type": "markdown",
      "metadata": {
        "id": "pesWc4T6qGVf"
      },
      "source": [
        "# Run de functie `voeg_dataframe_toe_aan_spreadsheet()`"
      ]
    },
    {
      "cell_type": "code",
      "metadata": {
        "id": "_yGnveBGkc0L"
      },
      "source": [
        "voeg_dataframe_toe_aan_spreadsheet(bestandsnaam, tabnaam, df2)"
      ],
      "execution_count": null,
      "outputs": []
    },
    {
      "cell_type": "markdown",
      "metadata": {
        "id": "g6NKiK0yu_RH"
      },
      "source": [
        "# Download het nieuwe totaaloverzicht en sla deze lokaal op je laptop op, na het sluiten van deze notebook zal het bestand verwijderd worden uit de virtuele Binder omgeving."
      ]
    }
  ]
}